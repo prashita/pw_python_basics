{
  "nbformat": 4,
  "nbformat_minor": 0,
  "metadata": {
    "colab": {
      "provenance": []
    },
    "kernelspec": {
      "name": "python3",
      "display_name": "Python 3"
    },
    "language_info": {
      "name": "python"
    }
  },
  "cells": [
    {
      "cell_type": "code",
      "execution_count": null,
      "metadata": {
        "id": "efoP6xB3AvRw"
      },
      "outputs": [],
      "source": []
    },
    {
      "cell_type": "markdown",
      "source": [
        "1. What is Python, and why is it popular\n",
        "    - Python is a programming language. Its a formal language(set of special rules and symbols) for creating instructions for a computer to follow.\n",
        "  -Its popular as its widely used in industry, in front end & backend as well.\n",
        "  -Its extensively used in data science industry.\n",
        "  -Python has lot of libraries(collection of optimised and well written codes) & active community.\n",
        "  - Its easy to read the code.\n",
        "  -Its a general purpose language which is easy to learn, powerful & very versatile(can be used for automation, image processing, machine learning & more).\n",
        "  -It can connect to other databases as well.\n",
        "\n",
        "2. What is an interpreter in Python\n",
        "  - An interpreter in python runs through the program and executes one command at a time, before moving to the next set.This helps in quick testing and debugging of the code.\n",
        "\n",
        "3. What are pre-defined keywords in Python\n",
        "  - Pre-defined keywords are predefined words that hold a special meaning and have specific purpose in python. Example- True, False, None, if.\n",
        "\n",
        "4. Can keywords be used as variable names\n",
        "  - No, variables should not be keywords.\n",
        "\n",
        "5. What is mutability in Python\n",
        "  - Mutability is the ability of the object to change its state or value after they are created.\n",
        "\n",
        "6. Why are lists mutable, but tuples are immutable\n",
        "    - Mutability affects how objects are stored and manipulated in memory, impacting performance, memory usage, and concurrency in Python programs. So it has been created differently for use, based on need.\n",
        "    - List is a type of mutable object which supports item assignment (ie its value can be changed after its created). This offers it flexibility to edit and make changes.\n",
        "    - Tuples and strings are immutable object which do not support item assignment(its value cannot be changed after its created). This provides stability and efficiency.\n",
        "    \n",
        "7. What is the difference between “==” and “is” operators in Python?\n",
        "  - \"==\" or equals to is an comparison operator, used to check if the values of two objects are the same.\n",
        "    \"is\" is an identity operator, checks if two references point to the same object in memory, it is used to compare the identity of the objects.\n",
        "      a = [1, 2, 3]\n",
        "      b = [1, 2, 3]\n",
        "      c = a\n",
        "      print(a == b)  # Output: True\n",
        "      print(a is b)  # Output: False\n",
        "      print(a is c)  # Output: True\n",
        "\n",
        "\n",
        "8. What are logical operators in Python\n",
        "    - And, or and not are logical operators in python which return a value of true or false\n",
        "\n",
        "9. What is type casting in Python\n",
        "    - Type casting or type conversion , is the process of changing one data type to another.\n",
        "  Build in functions for type casting include int(), str(), list(), tuple(), dict().\n",
        "  Type casting is needed for performing arithmetic operations, data manipulation, and input/output operation.\n",
        "\n",
        "10. What is the difference between implicit and explicit type casting\n",
        "    - implicit type casting is conversion of data type to another without intervention from programmer. Its automatic conversion by python. Ex converting interger to float.\n",
        "  -Explicit type cating is manual conversion of one data type to another using built in functions.This is done by programmer.\n",
        "  -\n",
        "11. What is the purpose of conditional statements in Python\n",
        "  - Conditional statements such as if, else, elif are used to execute code based on the evaluation of one or more condition. It basically helps to code decisions based on some preconditions.\n",
        "\n",
        "12. How does the elif statement work\n",
        "  - elif or else if conditional statement is used when multiple conditions need to be evaluated. It follows the path if..elif..else (if the precedding condition is false).\n",
        "\n",
        "13. What is the difference between for and while loops\n",
        "  - for loops are used for iterating over a sequence of elements, while \"while\" loops are used for executing code until a specified condition becomes False.\n",
        "\n",
        "14. Describe a scenario where a while loop is more suitable than a for loop\n",
        " While loop is more suitable when the range of iteration is not specific. Example is asking user for correct password.Using while is more approriate as number of iteration is not known. The loop goes on till the correct password is obtained.  "
      ],
      "metadata": {
        "id": "k8CoZOjKA8nA"
      }
    },
    {
      "cell_type": "code",
      "source": [],
      "metadata": {
        "id": "tqCtBICLRKQa"
      },
      "execution_count": null,
      "outputs": []
    },
    {
      "cell_type": "markdown",
      "source": [
        "1. Write a Python program to print \"Hello, World!\n",
        "2. Write a Python program that displays your name and age8\n",
        "3. Write code to print all the pre-defined keywords in Python using the keyword library8\n",
        "4. Write a program that checks if a given word is a Python keyword.\n",
        "5. Write a function to demonstrate the behavior of mutable and immutable arguments.\n",
        "\n",
        "6. Write a program that performs basic arithmetic operations on two user-input numbers.\n",
        "\n",
        "7. Write a program to demonstrate the use of logical operators.\n",
        "8. Create a list and tuple in Python, and demonstrate how attempting to change an element works differently\n",
        "for each.\n",
        "9. Write a Python program to convert user input from string to integer, float, and boolean types.\n",
        "\n",
        "10. Write code to demonstrate type casting with list elements.\n",
        "\n",
        "11. Write a program that checks if a number is positive, negative, or zero.\n",
        "\n",
        "12. Write a for loop to print numbers from 1 to 10.\n",
        "\n",
        "13. Write a Python program to find the sum of all even numbers between 1 and 50.\n",
        "\n",
        "14. Write a program to reverse a string using a while loop.\n",
        "15. Write a Python program to calculate the factorial of a number provided by the user using a while loop."
      ],
      "metadata": {
        "id": "TqqjMrwypBY_"
      }
    },
    {
      "cell_type": "code",
      "source": [
        "#1. Write a Python program to print \"Hello, World!\n",
        "print(\"Hello, World!\")"
      ],
      "metadata": {
        "colab": {
          "base_uri": "https://localhost:8080/"
        },
        "id": "lvBday40pXF3",
        "outputId": "89bc5ae5-74ae-4b46-f194-38a0b0b20677"
      },
      "execution_count": 68,
      "outputs": [
        {
          "output_type": "stream",
          "name": "stdout",
          "text": [
            "Hello, World!\n"
          ]
        }
      ]
    },
    {
      "cell_type": "code",
      "source": [
        "#2. Write a Python program that displays your name and age.\n",
        "name = \"Prashi\"\n",
        "age = 34\n",
        "print(name, age)"
      ],
      "metadata": {
        "colab": {
          "base_uri": "https://localhost:8080/"
        },
        "id": "y4ZoICrPdKt8",
        "outputId": "e082e8d7-ee8c-4439-a06b-13ec443cd28a"
      },
      "execution_count": 69,
      "outputs": [
        {
          "output_type": "stream",
          "name": "stdout",
          "text": [
            "Prashi 34\n"
          ]
        }
      ]
    },
    {
      "cell_type": "code",
      "source": [
        "#3. Write code to print all the pre-defined keywords in Python using the keyword library\n",
        "help('keywords')"
      ],
      "metadata": {
        "colab": {
          "base_uri": "https://localhost:8080/"
        },
        "id": "RFdH-z_sd0qh",
        "outputId": "37156619-9ca4-40dc-c004-4c6143f76cf7"
      },
      "execution_count": null,
      "outputs": [
        {
          "output_type": "stream",
          "name": "stdout",
          "text": [
            "\n",
            "Here is a list of the Python keywords.  Enter any keyword to get more help.\n",
            "\n",
            "False               class               from                or\n",
            "None                continue            global              pass\n",
            "True                def                 if                  raise\n",
            "and                 del                 import              return\n",
            "as                  elif                in                  try\n",
            "assert              else                is                  while\n",
            "async               except              lambda              with\n",
            "await               finally             nonlocal            yield\n",
            "break               for                 not                 \n",
            "\n"
          ]
        }
      ]
    },
    {
      "cell_type": "code",
      "source": [
        "#4. Write a program that checks if a given word is a Python keyword.\n",
        "keywords = ['False', 'None', 'True', 'and', 'as', 'assert', 'async', 'await', 'break', 'class',\n",
        "    'continue', 'del', 'elif', 'else', 'except', 'finally', 'for', 'from', 'global',\n",
        "    'if', 'import', 'in', 'is', 'lambda', 'nonlocal', 'not', 'or', 'pass', 'raise', 'return',\n",
        "    'try', 'while', 'with', 'yield']\n",
        "\n",
        "name = input(\"Enter word: \")\n",
        "if name in keywords:\n",
        "  print(\" its a predefined keyword\")\n",
        "else:\n",
        "    print(\"its not a predefined keyword\")"
      ],
      "metadata": {
        "colab": {
          "base_uri": "https://localhost:8080/"
        },
        "id": "JPqm4BJghf9Y",
        "outputId": "44acdea8-de63-40f6-c028-15aafe73142d"
      },
      "execution_count": 70,
      "outputs": [
        {
          "output_type": "stream",
          "name": "stdout",
          "text": [
            "Enter word: yield\n",
            " its a predefined keyword\n"
          ]
        }
      ]
    },
    {
      "cell_type": "code",
      "source": [
        "#5. Write a function to demonstrate the behavior of mutable and immutable arguments.\n",
        "# Immutable argument (integer)\n",
        "original_int = 5\n",
        "print(f\"Before modification, original_int: {original_int}\")\n",
        "\n",
        "# Modifying the integer\n",
        "modified_int = original_int + 10\n",
        "print(f\"After modification, original_int: {original_int}\")\n",
        "print(f\"Modified integer: {modified_int}\")\n",
        "\n",
        "# Mutable argument (list)\n",
        "original_list = [1, 2, 3]\n",
        "print(f\"Before modification, original_list: {original_list}\")\n",
        "\n",
        "# Modifying the list\n",
        "original_list.append(100)\n",
        "print(f\"After modification, original_list: {original_list}\")\n",
        "\n"
      ],
      "metadata": {
        "colab": {
          "base_uri": "https://localhost:8080/"
        },
        "id": "OomuWZCuw7B-",
        "outputId": "71dedd6b-17db-48aa-e9e1-3dd1c7f2c28e"
      },
      "execution_count": 108,
      "outputs": [
        {
          "output_type": "stream",
          "name": "stdout",
          "text": [
            "Before modification, original_int: 5\n",
            "After modification, original_int: 5\n",
            "Modified integer: 15\n",
            "Before modification, original_list: [1, 2, 3]\n",
            "After modification, original_list: [1, 2, 3, 100]\n"
          ]
        }
      ]
    },
    {
      "cell_type": "code",
      "source": [
        "#8. Create a list and tuple in Python, and demonstrate how attempting to change an element works differently for each.\n",
        "list_items = [1, 2, 3, 4, 7+8j, 'Prashi'] #mutable list\n",
        "list_items[5]"
      ],
      "metadata": {
        "colab": {
          "base_uri": "https://localhost:8080/",
          "height": 36
        },
        "id": "yK64_3Cdmfe7",
        "outputId": "aaadb8f1-577a-409c-ef6e-a1eda1c02e56"
      },
      "execution_count": 100,
      "outputs": [
        {
          "output_type": "execute_result",
          "data": {
            "text/plain": [
              "'Prashi'"
            ],
            "application/vnd.google.colaboratory.intrinsic+json": {
              "type": "string"
            }
          },
          "metadata": {},
          "execution_count": 100
        }
      ]
    },
    {
      "cell_type": "code",
      "source": [
        "list_items[5] = 'pwskills' #item in the list can be changed after creating, here Prashi changed to pwskills.\n",
        "list_items"
      ],
      "metadata": {
        "colab": {
          "base_uri": "https://localhost:8080/"
        },
        "id": "Xl08l86dn_ls",
        "outputId": "9817093e-6411-4f99-bdde-1e0256ec6661"
      },
      "execution_count": null,
      "outputs": [
        {
          "output_type": "execute_result",
          "data": {
            "text/plain": [
              "[1, 2, 3, 4, (7+8j), 'pwskills']"
            ]
          },
          "metadata": {},
          "execution_count": 27
        }
      ]
    },
    {
      "cell_type": "code",
      "source": [
        "tuple_items = (1, 2, 3, 4, 7+8j, 'Prashi') #immutable tuple - doesn't supports item assignment, it cannot be changed after creating.\n",
        "print(tuple_items[0])"
      ],
      "metadata": {
        "colab": {
          "base_uri": "https://localhost:8080/"
        },
        "id": "1QSCgPMyptHm",
        "outputId": "f3c4c00e-3030-429f-b56d-f1e50136a205"
      },
      "execution_count": 105,
      "outputs": [
        {
          "output_type": "stream",
          "name": "stdout",
          "text": [
            "1\n"
          ]
        }
      ]
    },
    {
      "cell_type": "code",
      "source": [
        "tuple_items[0]=100 # attempt to change the value from 1 to 100"
      ],
      "metadata": {
        "colab": {
          "base_uri": "https://localhost:8080/",
          "height": 141
        },
        "id": "sDg7lv4I0wJ8",
        "outputId": "5796acb5-d6bf-44cb-fb69-1de07ed58ea1"
      },
      "execution_count": 107,
      "outputs": [
        {
          "output_type": "error",
          "ename": "TypeError",
          "evalue": "'tuple' object does not support item assignment",
          "traceback": [
            "\u001b[0;31m---------------------------------------------------------------------------\u001b[0m",
            "\u001b[0;31mTypeError\u001b[0m                                 Traceback (most recent call last)",
            "\u001b[0;32m<ipython-input-107-24a03135fb99>\u001b[0m in \u001b[0;36m<cell line: 0>\u001b[0;34m()\u001b[0m\n\u001b[0;32m----> 1\u001b[0;31m \u001b[0mtuple_items\u001b[0m\u001b[0;34m[\u001b[0m\u001b[0;36m0\u001b[0m\u001b[0;34m]\u001b[0m\u001b[0;34m=\u001b[0m\u001b[0;36m100\u001b[0m \u001b[0;31m# attempt to change the value from 1 to 100\u001b[0m\u001b[0;34m\u001b[0m\u001b[0;34m\u001b[0m\u001b[0m\n\u001b[0m",
            "\u001b[0;31mTypeError\u001b[0m: 'tuple' object does not support item assignment"
          ]
        }
      ]
    },
    {
      "cell_type": "code",
      "source": [
        "#6. Write a program that performs basic arithmetic operations on two user-input numbers.\n",
        "a = float(input(\"Enter number a: \"))\n",
        "b = float(input(\"Enter number b: \"))\n",
        "print(\"a+b =\", (a+b))\n",
        "print(\"a-b =\", (a-b))\n",
        "print(\"a*b =\", (a*b))\n",
        "print(\"a/b =\", (a/b))"
      ],
      "metadata": {
        "colab": {
          "base_uri": "https://localhost:8080/"
        },
        "id": "cQz9Z7UDqiyQ",
        "outputId": "b243fd5a-5aa5-4a60-dfde-d9ecefa0a80c"
      },
      "execution_count": 74,
      "outputs": [
        {
          "output_type": "stream",
          "name": "stdout",
          "text": [
            "Enter number a: 4.2\n",
            "Enter number b: 2.3\n",
            "a+b = 6.5\n",
            "a-b = 1.9000000000000004\n",
            "a*b = 9.66\n",
            "a/b = 1.8260869565217392\n"
          ]
        }
      ]
    },
    {
      "cell_type": "code",
      "source": [
        "#7. Write a program to demonstrate the use of logical operators.\n",
        "x = 1\n",
        "y = 5\n",
        "z = 0\n",
        "if(x>y) and (y>z):\n",
        "  print(\"Both conditions are True (AND)\")\n",
        "if(x<y) or (y<z):\n",
        "  print(\"At least one condition is True(OR)\")\n",
        "if(not z):\n",
        "  print (\"z is false(NOT)\")"
      ],
      "metadata": {
        "colab": {
          "base_uri": "https://localhost:8080/"
        },
        "id": "1T3VamwDyHtR",
        "outputId": "def747aa-dcf9-4195-c3c7-636bf821c766"
      },
      "execution_count": 75,
      "outputs": [
        {
          "output_type": "stream",
          "name": "stdout",
          "text": [
            "At least one condition is True(OR)\n",
            "z is false(NOT)\n"
          ]
        }
      ]
    },
    {
      "cell_type": "code",
      "source": [],
      "metadata": {
        "id": "L4mcBRi8waNP"
      },
      "execution_count": null,
      "outputs": []
    },
    {
      "cell_type": "code",
      "source": [
        "#9. Write a Python program to convert user input from string to integer, float, and boolean types\n",
        "name1 = input(\"Enter integer:\") #int for converting str input to integer\n",
        "print(type(name1))#check the type of input\n",
        "print(int(name1))#convert to int\n",
        "print(type(int(name1)))#check the type of result\n",
        "\n",
        "name2 = input(\"Enter decimal number:\") #float for converting str input to float/decimal number\n",
        "print(type(name2))\n",
        "print(float(name2))\n",
        "print(type(float(name2)))\n",
        "\n",
        "name3 = input(\"Enter True or False \") #bool for converting str input to boolean, in case input is True or False\n",
        "print(type(name3))\n",
        "# Convert to boolean\n",
        "bool_value = name3 in ['True']\n",
        "print(bool_value)\n"
      ],
      "metadata": {
        "id": "dTMICdN8931J",
        "colab": {
          "base_uri": "https://localhost:8080/"
        },
        "outputId": "3ffefb5a-f9f0-46e7-9f46-0ddf3613dfeb"
      },
      "execution_count": 77,
      "outputs": [
        {
          "output_type": "stream",
          "name": "stdout",
          "text": [
            "Enter integer:1\n",
            "<class 'str'>\n",
            "1\n",
            "<class 'int'>\n",
            "Enter decimal number:2.5\n",
            "<class 'str'>\n",
            "2.5\n",
            "<class 'float'>\n",
            "Enter True or False True\n",
            "<class 'str'>\n",
            "True\n"
          ]
        }
      ]
    },
    {
      "cell_type": "code",
      "source": [
        "#10 Write code to demonstrate type casting with list elements.\n",
        "list_items = [1, 2.9,'True', 'Prashi']\n",
        "print (type(list_items))\n",
        "print (type(list_items[0]))\n",
        "print (type(list_items[1]))\n",
        "print (type(list_items[2]))\n",
        "print (type(list_items[3]))\n",
        "\n",
        "\n",
        "#Convert str to bool\n",
        "print(bool(list_items[2]))\n",
        "print(type(bool(list_items[2])))\n",
        "\n",
        "#Convert int to float\n",
        "print(float((list_items[0])))\n",
        "print(type(float((list_items[0]))))\n",
        "\n",
        "#Convert float to int\n",
        "print(int((list_items[1])))\n",
        "print(type(int((list_items[1]))))\n",
        "\n",
        "\n"
      ],
      "metadata": {
        "colab": {
          "base_uri": "https://localhost:8080/"
        },
        "id": "blWSQL7DYLDR",
        "outputId": "88eb1339-54cf-454f-e145-9a30a0621edc"
      },
      "execution_count": 84,
      "outputs": [
        {
          "output_type": "stream",
          "name": "stdout",
          "text": [
            "<class 'list'>\n",
            "<class 'int'>\n",
            "<class 'float'>\n",
            "<class 'str'>\n",
            "<class 'str'>\n",
            "True\n",
            "<class 'bool'>\n",
            "1.0\n",
            "<class 'float'>\n",
            "2\n",
            "<class 'int'>\n"
          ]
        }
      ]
    },
    {
      "cell_type": "code",
      "source": [
        "#11 Write a program that checks if a number is positive, negative, or zero.\n",
        "num = float(input(\"Enter number: \"))\n",
        "if (num>0):\n",
        "  print(\"Number is positive.\")\n",
        "elif (num<0):\n",
        "  print(\"Number is negative.\")\n",
        "else:\n",
        "  print(\"Number is 0.\")"
      ],
      "metadata": {
        "colab": {
          "base_uri": "https://localhost:8080/"
        },
        "id": "GHYJpW4bapQ1",
        "outputId": "4bcace0d-9946-4bd1-edc5-164e278b494a"
      },
      "execution_count": 85,
      "outputs": [
        {
          "output_type": "stream",
          "name": "stdout",
          "text": [
            "Enter number: -9.33\n",
            "Number is negative.\n"
          ]
        }
      ]
    },
    {
      "cell_type": "code",
      "source": [
        "#12 Write a for loop to print numbers from 1 to 10.\n",
        "for i in range(1, 11):\n",
        "  print(i)"
      ],
      "metadata": {
        "colab": {
          "base_uri": "https://localhost:8080/"
        },
        "id": "Sb-60rhLcyu8",
        "outputId": "3d44f45a-6a92-4ccf-92f6-d9a87347461a"
      },
      "execution_count": 86,
      "outputs": [
        {
          "output_type": "stream",
          "name": "stdout",
          "text": [
            "1\n",
            "2\n",
            "3\n",
            "4\n",
            "5\n",
            "6\n",
            "7\n",
            "8\n",
            "9\n",
            "10\n"
          ]
        }
      ]
    },
    {
      "cell_type": "code",
      "source": [
        "#13 Write a Python program to find the sum of all even numbers between 1 and 50.\n",
        "sum=0 #method 1\n",
        "for i in range(0,51,2):\n",
        "  sum+=i\n",
        "print(\"Sum of all even numbers between 1 and 50 is\", sum)"
      ],
      "metadata": {
        "colab": {
          "base_uri": "https://localhost:8080/"
        },
        "id": "ej8vFzvJdukT",
        "outputId": "a7ac6c76-8a68-441b-d0e4-34b67055578b"
      },
      "execution_count": 58,
      "outputs": [
        {
          "output_type": "stream",
          "name": "stdout",
          "text": [
            "Sum of all even numbers between 1 and 50 is 650\n"
          ]
        }
      ]
    },
    {
      "cell_type": "code",
      "source": [
        "\n",
        "sum = 0 #method 2\n",
        "for i in range(1, 51):\n",
        "    if i % 2 == 0:\n",
        "      sum+=i\n",
        "print(\"Sum of all even numbers between 1 and 50 is:\", sum)\n"
      ],
      "metadata": {
        "colab": {
          "base_uri": "https://localhost:8080/"
        },
        "id": "0kmRFrb0fIo6",
        "outputId": "9e50177b-4ace-407e-a51e-cff7b5061248"
      },
      "execution_count": 87,
      "outputs": [
        {
          "output_type": "stream",
          "name": "stdout",
          "text": [
            "Sum of all even numbers between 1 and 50 is: 650\n"
          ]
        }
      ]
    },
    {
      "cell_type": "code",
      "source": [
        "#14 Write a program to reverse a string using a while loop.\n",
        "input_string = input(\"Enter text to be reversed: \")\n",
        "\n",
        "reversed_string = \"\"\n",
        "index = len(input_string) - 1\n",
        "\n",
        "while index >= 0:\n",
        "    reversed_string += input_string[index]\n",
        "    index -= 1\n",
        "\n",
        "print(reversed_string)\n"
      ],
      "metadata": {
        "colab": {
          "base_uri": "https://localhost:8080/"
        },
        "id": "UhSfkVYfgrXx",
        "outputId": "944fa937-cc3d-4405-a7e4-1e76506859cf"
      },
      "execution_count": 88,
      "outputs": [
        {
          "output_type": "stream",
          "name": "stdout",
          "text": [
            "Enter text to be reversed: hi how are you\n",
            "uoy era woh ih\n"
          ]
        }
      ]
    },
    {
      "cell_type": "code",
      "source": [
        "#15. Write a Python program to calculate the factorial of a number provided by the user using a while loop.\n",
        "n= int (input(\"Enter number to cal factorial: \"))\n",
        "fact=1\n",
        "i=1\n",
        "while i in range (1, n+1):\n",
        "  fact*=i\n",
        "  i+=1\n",
        "\n",
        "print(\"The factorial is\", fact )\n"
      ],
      "metadata": {
        "colab": {
          "base_uri": "https://localhost:8080/"
        },
        "id": "hYzOIS3Mj4Be",
        "outputId": "6a7881d5-798e-47e6-aef8-f543c1b4fd29"
      },
      "execution_count": 91,
      "outputs": [
        {
          "output_type": "stream",
          "name": "stdout",
          "text": [
            "Enter number to cal factorial: 6\n",
            "The factorial is 720\n"
          ]
        }
      ]
    },
    {
      "cell_type": "code",
      "source": [],
      "metadata": {
        "id": "BKVDGaq8kjc1"
      },
      "execution_count": null,
      "outputs": []
    }
  ]
}